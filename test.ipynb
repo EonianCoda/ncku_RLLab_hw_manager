{
 "cells": [
  {
   "cell_type": "code",
   "execution_count": 4,
   "metadata": {},
   "outputs": [
    {
     "name": "stdout",
     "output_type": "stream",
     "text": [
      "220 Gene6 FTP Server v3.10.0 (Build 2) ready...\n"
     ]
    }
   ],
   "source": [
    "# -*- coding: UTF8 -*-\n",
    "# 2022-3-8\n",
    "# 作者：小藍棗\n",
    "# python連線ftp伺服器\n",
    "from ftplib import FTP\n",
    "\n",
    "def conn_ftp(ip, port : int, user, password):\n",
    "    ftp = FTP()\n",
    "    ftp.connect(ip, int(port))\n",
    "    ftp.login(user, password)\n",
    "    print(ftp.getwelcome())\n",
    "    return ftp\n",
    "\n",
    "ip = '140.116.154.1'\n",
    "port = 2121\n",
    "user = \"yunhsiang\"\n",
    "password = \"ygh51682\"\n",
    "ftp = conn_ftp(ip, port, user, password)\n",
    "# ftp.cwd(\"/Course/OpenCvDl_2022_Bs/Upload/Homework/Hw1_1\")\n",
    "ftp.encoding = 'big5'"
   ]
  },
  {
   "cell_type": "code",
   "execution_count": 1,
   "metadata": {},
   "outputs": [],
   "source": [
    "csv_file = \"OpenCV_2022.csv\"\n",
    "with open(csv_file,'r', encoding=\"utf-8\") as f:\n",
    "    lines = f.readlines()\n",
    "\n",
    "timed_data = dict()\n",
    "cur_dict = None\n",
    "cur_list = None\n",
    "for line in lines[1:]:\n",
    "    if '\"' in line and ',' not in line:\n",
    "        timestamp = line.strip().replace('\"','')\n",
    "        continue\n",
    "    elif ',' not in line:\n",
    "        timestamp += line.strip()\n",
    "        continue\n",
    "\n",
    "    datas = line.split(',')\n",
    "    if '\"' in line:\n",
    "        timestamp += datas[0].replace('\"','')\n",
    "        cur_dict = dict()\n",
    "        timed_data[timestamp] = cur_dict\n",
    "\n",
    "    group = datas[1]\n",
    "    if group != \"\":\n",
    "        group = group.replace(\"組\",'')\n",
    "        cur_list = list()\n",
    "        cur_dict[group] = cur_list\n",
    "\n",
    "    s_id = datas[3]\n",
    "    cur_list.append(s_id)"
   ]
  },
  {
   "cell_type": "code",
   "execution_count": 2,
   "metadata": {},
   "outputs": [],
   "source": [
    "with open('./download/OpenCvDl_2022_Bs/hw1.csv', 'r',encoding='utf-8') as f:\n",
    "    lines = f.readlines()\n",
    "\n",
    "hw_mapping = dict()\n",
    "s_names = dict()\n",
    "header = lines[0].split(',')\n",
    "hw_header = [header[i].replace('名稱','') for i in range(3, len(header),3)]\n",
    "for line in lines[1:]:\n",
    "    datas = line.split(',')\n",
    "    s_id = datas[0]\n",
    "    name = datas[1]\n",
    "    s_names[s_id] = name\n",
    "    hw_files = [datas[i] for i in range(3, len(datas),3)]\n",
    "    hw_mapping[s_id] = hw_files"
   ]
  },
  {
   "cell_type": "code",
   "execution_count": 4,
   "metadata": {},
   "outputs": [],
   "source": [
    "import os\n",
    "import shutil\n",
    "file_root = \"E:\\\\\"\n",
    "\n",
    "old_root = os.path.join(file_root, 'hw_files')\n",
    "new_root = os.path.join(file_root, 'group_hw_files')\n",
    "os.makedirs(new_root, exist_ok=True)\n",
    "for timestamp, grouped_data in timed_data.items():\n",
    "    timestamp = timestamp.replace(\":\",'').replace('~','-')\n",
    "    for group_idx, s_ids in grouped_data.items():\n",
    "        for s_id in s_ids:\n",
    "            new_path = os.path.join(new_root, group_idx, timestamp, s_id)\n",
    "            os.makedirs(new_path, exist_ok=True)\n",
    "\n",
    "            for hw_head, file_name in zip(hw_header, hw_mapping[s_id]):\n",
    "                if file_name == \"\":\n",
    "                    continue\n",
    "                old_path = os.path.join(old_root, hw_head, file_name)\n",
    "                if not os.path.exists(old_path):\n",
    "                    continue\n",
    "                shutil.move(old_path, os.path.join(new_path, file_name))"
   ]
  },
  {
   "cell_type": "code",
   "execution_count": 7,
   "metadata": {},
   "outputs": [
    {
     "name": "stdout",
     "output_type": "stream",
     "text": [
      "[[0.96041397 0.07148701]\n",
      " [0.36397666 0.72605425]\n",
      " [0.19569865 0.50529147]\n",
      " [0.41258088 0.39624792]\n",
      " [0.47197919 0.27431371]\n",
      " [0.77295888 0.40580154]\n",
      " [0.1590862  0.03364086]\n",
      " [0.07486179 0.63432416]\n",
      " [0.36392848 0.95863098]\n",
      " [0.3393773  0.50222439]]\n"
     ]
    }
   ],
   "source": [
    "import numpy as np\n",
    "\n",
    "a = np.random.random((10,2))\n",
    "print(a)"
   ]
  },
  {
   "cell_type": "code",
   "execution_count": 19,
   "metadata": {},
   "outputs": [
    {
     "data": {
      "text/plain": [
       "(1, 2)"
      ]
     },
     "execution_count": 19,
     "metadata": {},
     "output_type": "execute_result"
    }
   ],
   "source": [
    "a[[0]].shape\n",
    "np.expand_dims()"
   ]
  },
  {
   "cell_type": "code",
   "execution_count": 1,
   "metadata": {},
   "outputs": [
    {
     "ename": "PermissionError",
     "evalue": "[WinError 5] 存取被拒。",
     "output_type": "error",
     "traceback": [
      "\u001b[1;31m---------------------------------------------------------------------------\u001b[0m",
      "\u001b[1;31mPermissionError\u001b[0m                           Traceback (most recent call last)",
      "\u001b[1;32m~\\AppData\\Local\\Temp\\ipykernel_10660\\3791108567.py\u001b[0m in \u001b[0;36m<module>\u001b[1;34m\u001b[0m\n\u001b[0;32m      2\u001b[0m \u001b[1;33m\u001b[0m\u001b[0m\n\u001b[0;32m      3\u001b[0m \u001b[1;33m\u001b[0m\u001b[0m\n\u001b[1;32m----> 4\u001b[1;33m \u001b[0msubprocess\u001b[0m\u001b[1;33m.\u001b[0m\u001b[0mrun\u001b[0m\u001b[1;33m(\u001b[0m\u001b[1;33m[\u001b[0m\u001b[1;34m'\"C:\\\\Program Files\\\\Microsoft Office\\\\root\\\\Office16\\\\EXCEL.EXE\"'\u001b[0m\u001b[1;33m,\u001b[0m\u001b[1;33m(\u001b[0m\u001b[1;34m\"./Hw1_1.csv\"\u001b[0m\u001b[1;33m)\u001b[0m\u001b[1;33m]\u001b[0m\u001b[1;33m)\u001b[0m\u001b[1;33m\u001b[0m\u001b[1;33m\u001b[0m\u001b[0m\n\u001b[0m\u001b[0;32m      5\u001b[0m \u001b[1;33m\u001b[0m\u001b[0m\n\u001b[0;32m      6\u001b[0m \u001b[1;31m# subprocess.run('C:\\\\ProgramData\\\\Microsoft\\\\Windows\\\\Start Menu\\\\Programs\\\\Excel.exe \"{}\"'.format(output_path / csv_file_name))\u001b[0m\u001b[1;33m\u001b[0m\u001b[1;33m\u001b[0m\u001b[1;33m\u001b[0m\u001b[0m\n",
      "\u001b[1;32mc:\\Users\\Eonian\\Anaconda3\\envs\\openfl-test\\lib\\subprocess.py\u001b[0m in \u001b[0;36mrun\u001b[1;34m(input, capture_output, timeout, check, *popenargs, **kwargs)\u001b[0m\n\u001b[0;32m    486\u001b[0m         \u001b[0mkwargs\u001b[0m\u001b[1;33m[\u001b[0m\u001b[1;34m'stderr'\u001b[0m\u001b[1;33m]\u001b[0m \u001b[1;33m=\u001b[0m \u001b[0mPIPE\u001b[0m\u001b[1;33m\u001b[0m\u001b[1;33m\u001b[0m\u001b[0m\n\u001b[0;32m    487\u001b[0m \u001b[1;33m\u001b[0m\u001b[0m\n\u001b[1;32m--> 488\u001b[1;33m     \u001b[1;32mwith\u001b[0m \u001b[0mPopen\u001b[0m\u001b[1;33m(\u001b[0m\u001b[1;33m*\u001b[0m\u001b[0mpopenargs\u001b[0m\u001b[1;33m,\u001b[0m \u001b[1;33m**\u001b[0m\u001b[0mkwargs\u001b[0m\u001b[1;33m)\u001b[0m \u001b[1;32mas\u001b[0m \u001b[0mprocess\u001b[0m\u001b[1;33m:\u001b[0m\u001b[1;33m\u001b[0m\u001b[1;33m\u001b[0m\u001b[0m\n\u001b[0m\u001b[0;32m    489\u001b[0m         \u001b[1;32mtry\u001b[0m\u001b[1;33m:\u001b[0m\u001b[1;33m\u001b[0m\u001b[1;33m\u001b[0m\u001b[0m\n\u001b[0;32m    490\u001b[0m             \u001b[0mstdout\u001b[0m\u001b[1;33m,\u001b[0m \u001b[0mstderr\u001b[0m \u001b[1;33m=\u001b[0m \u001b[0mprocess\u001b[0m\u001b[1;33m.\u001b[0m\u001b[0mcommunicate\u001b[0m\u001b[1;33m(\u001b[0m\u001b[0minput\u001b[0m\u001b[1;33m,\u001b[0m \u001b[0mtimeout\u001b[0m\u001b[1;33m=\u001b[0m\u001b[0mtimeout\u001b[0m\u001b[1;33m)\u001b[0m\u001b[1;33m\u001b[0m\u001b[1;33m\u001b[0m\u001b[0m\n",
      "\u001b[1;32mc:\\Users\\Eonian\\Anaconda3\\envs\\openfl-test\\lib\\subprocess.py\u001b[0m in \u001b[0;36m__init__\u001b[1;34m(self, args, bufsize, executable, stdin, stdout, stderr, preexec_fn, close_fds, shell, cwd, env, universal_newlines, startupinfo, creationflags, restore_signals, start_new_session, pass_fds, encoding, errors, text)\u001b[0m\n\u001b[0;32m    798\u001b[0m                                 \u001b[0mc2pread\u001b[0m\u001b[1;33m,\u001b[0m \u001b[0mc2pwrite\u001b[0m\u001b[1;33m,\u001b[0m\u001b[1;33m\u001b[0m\u001b[1;33m\u001b[0m\u001b[0m\n\u001b[0;32m    799\u001b[0m                                 \u001b[0merrread\u001b[0m\u001b[1;33m,\u001b[0m \u001b[0merrwrite\u001b[0m\u001b[1;33m,\u001b[0m\u001b[1;33m\u001b[0m\u001b[1;33m\u001b[0m\u001b[0m\n\u001b[1;32m--> 800\u001b[1;33m                                 restore_signals, start_new_session)\n\u001b[0m\u001b[0;32m    801\u001b[0m         \u001b[1;32mexcept\u001b[0m\u001b[1;33m:\u001b[0m\u001b[1;33m\u001b[0m\u001b[1;33m\u001b[0m\u001b[0m\n\u001b[0;32m    802\u001b[0m             \u001b[1;31m# Cleanup if the child failed starting.\u001b[0m\u001b[1;33m\u001b[0m\u001b[1;33m\u001b[0m\u001b[1;33m\u001b[0m\u001b[0m\n",
      "\u001b[1;32mc:\\Users\\Eonian\\Anaconda3\\envs\\openfl-test\\lib\\subprocess.py\u001b[0m in \u001b[0;36m_execute_child\u001b[1;34m(self, args, executable, preexec_fn, close_fds, pass_fds, cwd, env, startupinfo, creationflags, shell, p2cread, p2cwrite, c2pread, c2pwrite, errread, errwrite, unused_restore_signals, unused_start_new_session)\u001b[0m\n\u001b[0;32m   1205\u001b[0m                                          \u001b[0menv\u001b[0m\u001b[1;33m,\u001b[0m\u001b[1;33m\u001b[0m\u001b[1;33m\u001b[0m\u001b[0m\n\u001b[0;32m   1206\u001b[0m                                          \u001b[0mos\u001b[0m\u001b[1;33m.\u001b[0m\u001b[0mfspath\u001b[0m\u001b[1;33m(\u001b[0m\u001b[0mcwd\u001b[0m\u001b[1;33m)\u001b[0m \u001b[1;32mif\u001b[0m \u001b[0mcwd\u001b[0m \u001b[1;32mis\u001b[0m \u001b[1;32mnot\u001b[0m \u001b[1;32mNone\u001b[0m \u001b[1;32melse\u001b[0m \u001b[1;32mNone\u001b[0m\u001b[1;33m,\u001b[0m\u001b[1;33m\u001b[0m\u001b[1;33m\u001b[0m\u001b[0m\n\u001b[1;32m-> 1207\u001b[1;33m                                          startupinfo)\n\u001b[0m\u001b[0;32m   1208\u001b[0m             \u001b[1;32mfinally\u001b[0m\u001b[1;33m:\u001b[0m\u001b[1;33m\u001b[0m\u001b[1;33m\u001b[0m\u001b[0m\n\u001b[0;32m   1209\u001b[0m                 \u001b[1;31m# Child is launched. Close the parent's copy of those pipe\u001b[0m\u001b[1;33m\u001b[0m\u001b[1;33m\u001b[0m\u001b[1;33m\u001b[0m\u001b[0m\n",
      "\u001b[1;31mPermissionError\u001b[0m: [WinError 5] 存取被拒。"
     ]
    }
   ],
   "source": [
    "import subprocess\n",
    "import os\n",
    "\n",
    "\n",
    "os.system(\"start EXCEL.EXE ./Hw1_1.csv\")\n",
    "# subprocess.run(['\"C:\\\\Program Files\\\\Microsoft Office\\\\root\\\\Office16\\\\EXCEL.EXE\"',(\"./Hw1_1.csv\")])\n",
    "       \n",
    "# subprocess.run('C:\\\\ProgramData\\\\Microsoft\\\\Windows\\\\Start Menu\\\\Programs\\\\Excel.exe \"{}\"'.format(output_path / csv_file_name))\n",
    "# os.system('C:\\\\ProgramData\\\\Microsoft\\\\Windows\\\\Start Menu\\\\Programs\\\\Excel.exe \"{}\"'.format(csv_file_name))\n",
    "       "
   ]
  },
  {
   "cell_type": "code",
   "execution_count": 1,
   "metadata": {},
   "outputs": [
    {
     "data": {
      "text/plain": [
       "'1'"
      ]
     },
     "execution_count": 1,
     "metadata": {},
     "output_type": "execute_result"
    }
   ],
   "source": [
    "import re\n",
    "string= '-rw-rw-rw-   1 user     group        3629 Oct 04 16:53 Hw1_1_E24076409_林柏宏_v1.rar'\n",
    "regex = re.compile(r'\\d\\d:\\d\\d')\n",
    "match = regex.search(string)\n",
    "print(match.group(1))"
   ]
  },
  {
   "cell_type": "code",
   "execution_count": 5,
   "metadata": {},
   "outputs": [
    {
     "data": {
      "text/plain": [
       "'250 CWD command successful. \"/Course/OpenCvDl_2022_Bs/Upload/Homework/Hw1_1\" is current directory.'"
      ]
     },
     "execution_count": 5,
     "metadata": {},
     "output_type": "execute_result"
    }
   ],
   "source": [
    "ftp.cwd('/Course/OpenCvDl_2022_Bs/Upload/Homework/Hw1_1')"
   ]
  },
  {
   "cell_type": "code",
   "execution_count": 6,
   "metadata": {},
   "outputs": [
    {
     "name": "stdout",
     "output_type": "stream",
     "text": [
      "drwxrwxrwx   1 user     group           0 Oct 09 15:07 .\n",
      "drwxrwxrwx   1 user     group           0 Oct 06 10:38 ..\n",
      "-rw-rw-rw-   1 user     group         757 Oct 09 15:06 hw1 - 捷徑.lnk\n",
      "-rw-rw-rw-   1 user     group        3629 Oct 04 16:53 Hw1_1_E24076409_林柏宏_v1.rar\n",
      "-rw-rw-rw-   1 user     group        3631 Oct 07 14:41 Hw1_1_E24076409_林柏宏_v2.rar\n",
      "-rw-rw-rw-   1 user     group        2421 Oct 09 10:59 Hw1_1_E54066183_劉士瑋_V1.rar\n",
      "-rw-rw-rw-   1 user     group        2965 Oct 08 21:12 Hw1_1_E64096245_黃佳倫_V1.zip\n",
      "-rw-rw-rw-   1 user     group      273856 Oct 05 16:31 Hw1_1_F66114161_沈晴_v1.rar\n",
      "-rw-rw-rw-   1 user     group        2264 Oct 07 19:04 Hw1_1_F74091182_鄧新泰_V1.rar\n",
      "-rw-rw-rw-   1 user     group       35840 Oct 06 13:12 Hw1_1_F74092049_林谷安_V1.rar\n",
      "-rw-rw-rw-   1 user     group      283153 Oct 05 22:06 Hw1_1_F74092081_趙邦鈞_V1.rar\n",
      "-rw-rw-rw-   1 user     group      294957 Oct 05 22:11 Hw1_1_F74092081_趙邦鈞_V2.rar\n",
      "-rw-rw-rw-   1 user     group      294935 Oct 07 12:44 Hw1_1_F74092081_趙邦鈞_V3.rar\n",
      "-rw-rw-rw-   1 user     group       52584 Oct 06 21:14 Hw1_1_F74092099_陳昕泓_V1.rar\n",
      "-rw-rw-rw-   1 user     group        2645 Oct 06 15:18 Hw1_1_F74094041_李易宗_V1.rar\n",
      "-rw-rw-rw-   1 user     group        2887 Oct 07 07:36 Hw1_1_F74094067_楊育勝_V1.rar\n",
      "-rw-rw-rw-   1 user     group        3062 Oct 07 17:51 Hw1_1_F74094067_楊育勝_V2.zip\n",
      "-rw-rw-rw-   1 user     group      201401 Oct 03 15:29 Hw1_1_F74096043_王駿杰_V1.rar\n",
      "-rw-rw-rw-   1 user     group        1683 Oct 03 19:58 Hw1_1_F74096069_趙昌昱_V1.rar\n",
      "-rw-rw-rw-   1 user     group        2823 Oct 07 12:12 Hw1_1_F74096069_趙昌昱_V2.rar\n",
      "-rw-rw-rw-   1 user     group        2823 Oct 07 15:45 Hw1_1_F74096069_趙昌昱_V3.rar\n",
      "-rw-rw-rw-   1 user     group        2527 Oct 07 09:25 Hw1_1_F74096132_林凱翔_V1.rar\n",
      "-rw-rw-rw-   1 user     group     3124858 Oct 08 18:12 Hw1_1_P46111224_陳泓宇_V1.zip\n",
      "-rw-rw-rw-   1 user     group     3120131 Oct 08 18:20 Hw1_1_P46111224_陳泓宇_V2.rar\n",
      "-rw-rw-rw-   1 user     group      270791 Oct 05 09:01 Hw1_1_P86111191_莊登彥_v1.rar\n",
      "-rw-rw-rw-   1 user     group        2634 Oct 09 15:07 Hw1_1_P96114117_陳奕丞_V1.rar\n",
      "-rw-rw-rw-   1 user     group      301960 Oct 04 13:42 Hw1_1_Q36114239_林柏戎_V1.rar\n",
      "-rw-rw-rw-   1 user     group      301953 Oct 08 08:54 Hw1_1_Q36114239_林柏戎_V2.rar\n"
     ]
    }
   ],
   "source": [
    "ftp.encoding = 'big5'\n",
    "ftp.dir()"
   ]
  },
  {
   "cell_type": "code",
   "execution_count": 3,
   "metadata": {},
   "outputs": [],
   "source": [
    "import os\n",
    "from pathlib import Path\n",
    "def download(file_name : str):\n",
    "    ftp.encoding = 'big5'\n",
    "    os.makedirs(\"local\", exist_ok=True)\n",
    "    f = open(Path('local') / file_name, \"wb\")\n",
    "    # 下載ftp檔案\n",
    "    download_cmd = 'RETR ./%s' % (file_name)\n",
    "    ftp.retrbinary(download_cmd, f.write)\n",
    "    f.close()\n",
    "#download(\"測試.txt\")\n",
    "download(\"Hw1_1_E24076409_林柏宏_v2.rar\")\n",
    "#download(files['E24076409'][0][1])"
   ]
  },
  {
   "cell_type": "code",
   "execution_count": 2,
   "metadata": {},
   "outputs": [
    {
     "name": "stdout",
     "output_type": "stream",
     "text": [
      "Login successful\n"
     ]
    }
   ],
   "source": [
    "from hw_downloader import Hw_downloader\n",
    "\n",
    "username = \"yunhsiang\"\n",
    "password = \"ygh51682\"\n",
    "downloader = Hw_downloader()\n",
    "success = downloader.connect(username, password)"
   ]
  },
  {
   "cell_type": "code",
   "execution_count": 3,
   "metadata": {},
   "outputs": [
    {
     "name": "stdout",
     "output_type": "stream",
     "text": [
      "CMD= LIST /Course/OpenCvDl_2022_Bs/Upload/Homework/Hw1_1\n",
      "Error not reply\n"
     ]
    }
   ],
   "source": [
    "files, error_count = downloader.list_hw_files(\"/Course/OpenCvDl_2022_Bs/Upload/Homework/Hw1_1\")"
   ]
  },
  {
   "cell_type": "code",
   "execution_count": null,
   "metadata": {},
   "outputs": [],
   "source": [
    "downloader"
   ]
  },
  {
   "cell_type": "code",
   "execution_count": 2,
   "metadata": {},
   "outputs": [
    {
     "data": {
      "text/plain": [
       "'250 CWD command successful. \"/Course/OpenCvDl_2022_Bs/Upload/Homework/Hw1_1\" is current directory.'"
      ]
     },
     "execution_count": 2,
     "metadata": {},
     "output_type": "execute_result"
    }
   ],
   "source": [
    "ftp.cwd(\"/Course/OpenCvDl_2022_Bs/Upload/Homework/Hw1_1\")"
   ]
  },
  {
   "cell_type": "code",
   "execution_count": 9,
   "metadata": {},
   "outputs": [
    {
     "name": "stdout",
     "output_type": "stream",
     "text": [
      "CMD= LIST /Course/CvDl_2022_G/Upload/Homework/\n",
      "Error not reply\n",
      "drwxrwxrwx   1 user     group           0 Oct 06 10:33 .\n",
      "drwxrwxrwx   1 user     group           0 Sep 30 13:24 ..\n",
      "drwxrwxrwx   1 user     group           0 Sep 30 13:24 Hw1_1\n"
     ]
    }
   ],
   "source": [
    "ftp.dir(\"/Course/CvDl_2022_G/Upload/Homework/\")"
   ]
  },
  {
   "cell_type": "code",
   "execution_count": 5,
   "metadata": {},
   "outputs": [
    {
     "data": {
      "text/plain": [
       "'250 CWD command successful. \"/Course/OpenCvDl_2022_Bs/Upload/Homework\" is current directory.'"
      ]
     },
     "execution_count": 5,
     "metadata": {},
     "output_type": "execute_result"
    }
   ],
   "source": [
    "ftp.cwd(\"../\")"
   ]
  },
  {
   "cell_type": "code",
   "execution_count": 10,
   "metadata": {},
   "outputs": [
    {
     "data": {
      "text/plain": [
       "'221 Goodbye.'"
      ]
     },
     "execution_count": 10,
     "metadata": {},
     "output_type": "execute_result"
    }
   ],
   "source": [
    "ftp.quit()"
   ]
  },
  {
   "cell_type": "code",
   "execution_count": 3,
   "metadata": {},
   "outputs": [
    {
     "name": "stdout",
     "output_type": "stream",
     "text": [
      "CMD= LIST .\n",
      "Error not reply\n",
      "drwxrwxrwx   1 user     group           0 Oct 08 12:54 Course\n",
      "drwxrwxrwx   1 user     group           0 Sep 22 13:03 FTP_BEFORE_20200812_READONLY\n",
      "drwxrwxrwx   1 user     group           0 Mar 02 15:51 FTP_Customer\n",
      "drwxrwxrwx   1 user     group           0 Sep 24  2021 FTP_RoboticsLab\n"
     ]
    }
   ],
   "source": [
    "ftp.dir(\".\")"
   ]
  },
  {
   "cell_type": "code",
   "execution_count": 20,
   "metadata": {},
   "outputs": [
    {
     "data": {
      "text/plain": [
       "'2022/10/09 15:10'"
      ]
     },
     "execution_count": 20,
     "metadata": {},
     "output_type": "execute_result"
    }
   ],
   "source": [
    "from datetime import datetime\n",
    "x = datetime.now()\n",
    "x.strftime(\"%Y/%m/%d %H:%m\")"
   ]
  },
  {
   "cell_type": "code",
   "execution_count": 7,
   "metadata": {},
   "outputs": [
    {
     "name": "stdout",
     "output_type": "stream",
     "text": [
      "Without formatting 2022-10-09 15:28:17.441695\n",
      "\n",
      "Example 1: Sun 10 22\n"
     ]
    }
   ],
   "source": [
    "# Python program to demonstrate\n",
    "# strftime() function\n",
    "\n",
    "\n",
    "from datetime import datetime as dt\n",
    "\n",
    "# Getting current date and time\n",
    "now = dt.now()\n",
    "print(\"Without formatting\", now)\n",
    "\n",
    "# Example 1\n",
    "s = now.strftime(\"%a %m %y\")\n",
    "print('\\nExample 1:', s)\n"
   ]
  },
  {
   "cell_type": "code",
   "execution_count": 2,
   "metadata": {},
   "outputs": [
    {
     "name": "stdout",
     "output_type": "stream",
     "text": [
      "CMD= LIST .\n",
      "Error not reply\n"
     ]
    }
   ],
   "source": [
    "result = []\n",
    "ftp.dir(\".\",result.append)"
   ]
  },
  {
   "cell_type": "code",
   "execution_count": 11,
   "metadata": {},
   "outputs": [
    {
     "data": {
      "text/plain": [
       "'.zip'"
      ]
     },
     "execution_count": 11,
     "metadata": {},
     "output_type": "execute_result"
    }
   ],
   "source": [
    "\"test.zip\"[-4:]"
   ]
  },
  {
   "cell_type": "code",
   "execution_count": 3,
   "metadata": {},
   "outputs": [
    {
     "name": "stdout",
     "output_type": "stream",
     "text": [
      "E24076409 [Hw_file(timestamp=datetime.datetime(2022, 10, 4, 16, 53), file_name='Hw1_1_E24076409_林柏宏_v1.rar', name='林柏宏', version=1)]\n",
      "F66114161 [Hw_file(timestamp=datetime.datetime(2022, 10, 5, 16, 31), file_name='HW1_1_F66114161_沈晴_v1.rar', name='沈晴', version=1)]\n",
      "F74092049 [Hw_file(timestamp=datetime.datetime(2022, 10, 6, 13, 12), file_name='Hw1_1_F74092049_林谷安_V1.rar', name='林谷安', version=1)]\n",
      "F74092081 [Hw_file(timestamp=datetime.datetime(2022, 10, 5, 22, 6), file_name='Hw1_1_F74092081_趙邦鈞_V1.rar', name='趙邦鈞', version=1), Hw_file(timestamp=datetime.datetime(2022, 10, 5, 22, 11), file_name='Hw1_1_F74092081_趙邦鈞_V2.rar', name='趙邦鈞', version=2)]\n",
      "F74092099 [Hw_file(timestamp=datetime.datetime(2022, 10, 6, 21, 14), file_name='Hw1_1_F74092099_陳昕泓_V1.rar', name='陳昕泓', version=1)]\n",
      "F74094041 [Hw_file(timestamp=datetime.datetime(2022, 10, 6, 15, 18), file_name='HW1_1_F74094041_李易宗_V1.rar', name='李易宗', version=1)]\n",
      "F74094067 [Hw_file(timestamp=datetime.datetime(2022, 10, 7, 7, 36), file_name='Hw1_1_F74094067_楊育勝_V1.rar', name='楊育勝', version=1)]\n",
      "F74096043 [Hw_file(timestamp=datetime.datetime(2022, 10, 3, 15, 29), file_name='Hw1_1_F74096043_王駿杰_V1.rar', name='王駿杰', version=1)]\n",
      "F74096069 [Hw_file(timestamp=datetime.datetime(2022, 10, 3, 19, 58), file_name='Hw1_1_F74096069_趙昌昱_V1.rar', name='趙昌昱', version=1)]\n",
      "F74096132 [Hw_file(timestamp=datetime.datetime(2022, 10, 7, 9, 25), file_name='Hw1_1_F74096132_林凱翔_V1.rar', name='林凱翔', version=1)]\n",
      "P86111191 [Hw_file(timestamp=datetime.datetime(2022, 10, 5, 9, 1), file_name='HW1_1_P86111191_莊登彥_v1.rar', name='莊登彥', version=1)]\n",
      "Q36114239 [Hw_file(timestamp=datetime.datetime(2022, 10, 4, 13, 42), file_name='Hw1_1_Q36114239_林柏戎_V1.rar.rar', name='林柏戎', version=1)]\n"
     ]
    }
   ],
   "source": [
    "from collections import namedtuple, defaultdict\n",
    "import datetime\n",
    "from pathlib import Path\n",
    "import os\n",
    "def download(file_name : str):\n",
    "    os.makedirs(\"local\", exist_ok=True)\n",
    "    f = open(Path('local') / file_name, \"wb\")\n",
    "    download_cmd = 'RETR {}'.format(file_name)\n",
    "    ftp.retrbinary(download_cmd, f.write)\n",
    "    f.close()\n",
    "\n",
    "month_mapping = ['Jan', 'Feb', 'Mar', 'Apr', 'May', 'Jun', 'Jul', 'Aug', 'Sep' ,'Oct', 'Nov' ,'Dec']\n",
    "hw_file = namedtuple('Hw_file', ['timestamp', 'file_name', 'name','version'] ) # S_ID = student id\n",
    "\n",
    "\n",
    "files = defaultdict(list)\n",
    "for f in result:\n",
    "    info = f.split()[5:]\n",
    "    # file name contain space\n",
    "    if len(info) > 4:\n",
    "        print(\"Contain space:{}\".format(f))\n",
    "        continue\n",
    "\n",
    "    # Date\n",
    "    month = month_mapping.index(info[0]) + 1\n",
    "    day = int(info[1])\n",
    "    hour = int(info[2].split(':')[0])\n",
    "    min = int(info[2].split(':')[1])\n",
    "    timestamp = datetime.datetime(2022, month, day, hour, min)\n",
    "\n",
    "\n",
    "    file_name = info[3]\n",
    "    if file_name == '.' or file_name == '..':\n",
    "        continue\n",
    "    info = file_name.split('_')\n",
    "\n",
    "    # version\n",
    "    version = info[-1].split('.')[0]\n",
    "    # Have version flag\n",
    "    if \"v\" in version.lower():\n",
    "        version = int(version[1:])\n",
    "    else:\n",
    "        print(\"Error\", f)\n",
    "        continue\n",
    "    # name\n",
    "    name = info[-2]\n",
    "    # S_ID\n",
    "    student_id = info[-3]\n",
    "    file = hw_file(timestamp, file_name, name, version)\n",
    "    files[student_id].append(file)\n"
   ]
  },
  {
   "cell_type": "code",
   "execution_count": 4,
   "metadata": {},
   "outputs": [],
   "source": []
  },
  {
   "cell_type": "code",
   "execution_count": 6,
   "metadata": {},
   "outputs": [
    {
     "name": "stdout",
     "output_type": "stream",
     "text": [
      "CMD= LIST\n",
      "Error not reply\n",
      "drwxrwxrwx   1 user     group           0 Oct 09 10:59 .\n",
      "drwxrwxrwx   1 user     group           0 Oct 06 10:38 ..\n",
      "-rw-rw-rw-   1 user     group        3629 Oct 04 16:53 Hw1_1_E24076409_林柏宏_v1.rar\n",
      "-rw-rw-rw-   1 user     group        3631 Oct 07 14:41 Hw1_1_E24076409_林柏宏_v2.rar\n",
      "-rw-rw-rw-   1 user     group        2421 Oct 09 10:59 Hw1_1_E54066183_劉士瑋_V1.rar\n",
      "-rw-rw-rw-   1 user     group        2965 Oct 08 21:12 Hw1_1_E64096245_黃佳倫_V1.zip\n",
      "-rw-rw-rw-   1 user     group      273856 Oct 05 16:31 Hw1_1_F66114161_沈晴_v1.rar\n",
      "-rw-rw-rw-   1 user     group        2264 Oct 07 19:04 Hw1_1_F74091182_鄧新泰_V1.rar\n",
      "-rw-rw-rw-   1 user     group       35840 Oct 06 13:12 Hw1_1_F74092049_林谷安_V1.rar\n",
      "-rw-rw-rw-   1 user     group      283153 Oct 05 22:06 Hw1_1_F74092081_趙邦鈞_V1.rar\n",
      "-rw-rw-rw-   1 user     group      294957 Oct 05 22:11 Hw1_1_F74092081_趙邦鈞_V2.rar\n",
      "-rw-rw-rw-   1 user     group      294935 Oct 07 12:44 Hw1_1_F74092081_趙邦鈞_V3.rar\n",
      "-rw-rw-rw-   1 user     group       52584 Oct 06 21:14 Hw1_1_F74092099_陳昕泓_V1.rar\n",
      "-rw-rw-rw-   1 user     group        2645 Oct 06 15:18 Hw1_1_F74094041_李易宗_V1.rar\n",
      "-rw-rw-rw-   1 user     group        2887 Oct 07 07:36 Hw1_1_F74094067_楊育勝_V1.rar\n",
      "-rw-rw-rw-   1 user     group        3062 Oct 07 17:51 Hw1_1_F74094067_楊育勝_V2.zip\n",
      "-rw-rw-rw-   1 user     group      201401 Oct 03 15:29 Hw1_1_F74096043_王駿杰_V1.rar\n",
      "-rw-rw-rw-   1 user     group        1683 Oct 03 19:58 Hw1_1_F74096069_趙昌昱_V1.rar\n",
      "-rw-rw-rw-   1 user     group        2823 Oct 07 12:12 Hw1_1_F74096069_趙昌昱_V2.rar\n",
      "-rw-rw-rw-   1 user     group        2823 Oct 07 15:45 Hw1_1_F74096069_趙昌昱_V3.rar\n",
      "-rw-rw-rw-   1 user     group        2527 Oct 07 09:25 Hw1_1_F74096132_林凱翔_V1.rar\n",
      "-rw-rw-rw-   1 user     group     3124858 Oct 08 18:12 Hw1_1_P46111224_陳泓宇_V1.zip\n",
      "-rw-rw-rw-   1 user     group     3120131 Oct 08 18:20 Hw1_1_P46111224_陳泓宇_V2.rar\n",
      "-rw-rw-rw-   1 user     group      270791 Oct 05 09:01 Hw1_1_P86111191_莊登彥_v1.rar\n",
      "-rw-rw-rw-   1 user     group      301960 Oct 04 13:42 Hw1_1_Q36114239_林柏戎_V1.rar\n",
      "-rw-rw-rw-   1 user     group      301953 Oct 08 08:54 Hw1_1_Q36114239_林柏戎_V2.rar\n"
     ]
    }
   ],
   "source": [
    "ftp.encoding = 'big5'\n",
    "ftp.dir()"
   ]
  },
  {
   "cell_type": "code",
   "execution_count": 9,
   "metadata": {},
   "outputs": [
    {
     "ename": "error_perm",
     "evalue": "550 \"Hw1_1_E24076409_林柏宏_v2.rar\": no such file.",
     "output_type": "error",
     "traceback": [
      "\u001b[1;31m---------------------------------------------------------------------------\u001b[0m",
      "\u001b[1;31merror_perm\u001b[0m                                Traceback (most recent call last)",
      "\u001b[1;32md:\\Python\\ftp_test\\test.ipynb Cell 19\u001b[0m in \u001b[0;36m<cell line: 10>\u001b[1;34m()\u001b[0m\n\u001b[0;32m      <a href='vscode-notebook-cell:/d%3A/Python/ftp_test/test.ipynb#X20sZmlsZQ%3D%3D?line=7'>8</a>\u001b[0m     f\u001b[39m.\u001b[39mclose()\n\u001b[0;32m      <a href='vscode-notebook-cell:/d%3A/Python/ftp_test/test.ipynb#X20sZmlsZQ%3D%3D?line=8'>9</a>\u001b[0m     ftp\u001b[39m.\u001b[39mencoding \u001b[39m=\u001b[39m \u001b[39m'\u001b[39m\u001b[39mbig5\u001b[39m\u001b[39m'\u001b[39m\n\u001b[1;32m---> <a href='vscode-notebook-cell:/d%3A/Python/ftp_test/test.ipynb#X20sZmlsZQ%3D%3D?line=9'>10</a>\u001b[0m download(\u001b[39m\"\u001b[39;49m\u001b[39mHw1_1_E24076409_林柏宏_v2.rar\u001b[39;49m\u001b[39m\"\u001b[39;49m)\n",
      "\u001b[1;32md:\\Python\\ftp_test\\test.ipynb Cell 19\u001b[0m in \u001b[0;36mdownload\u001b[1;34m(file_name)\u001b[0m\n\u001b[0;32m      <a href='vscode-notebook-cell:/d%3A/Python/ftp_test/test.ipynb#X20sZmlsZQ%3D%3D?line=4'>5</a>\u001b[0m f \u001b[39m=\u001b[39m \u001b[39mopen\u001b[39m(file_name, \u001b[39m\"\u001b[39m\u001b[39mwb\u001b[39m\u001b[39m\"\u001b[39m)\n\u001b[0;32m      <a href='vscode-notebook-cell:/d%3A/Python/ftp_test/test.ipynb#X20sZmlsZQ%3D%3D?line=5'>6</a>\u001b[0m download_cmd \u001b[39m=\u001b[39m \u001b[39m'\u001b[39m\u001b[39mRETR \u001b[39m\u001b[39m%s\u001b[39;00m\u001b[39m'\u001b[39m \u001b[39m%\u001b[39m (file_name)\n\u001b[1;32m----> <a href='vscode-notebook-cell:/d%3A/Python/ftp_test/test.ipynb#X20sZmlsZQ%3D%3D?line=6'>7</a>\u001b[0m ftp\u001b[39m.\u001b[39;49mretrbinary(download_cmd, f\u001b[39m.\u001b[39;49mwrite)\n\u001b[0;32m      <a href='vscode-notebook-cell:/d%3A/Python/ftp_test/test.ipynb#X20sZmlsZQ%3D%3D?line=7'>8</a>\u001b[0m f\u001b[39m.\u001b[39mclose()\n\u001b[0;32m      <a href='vscode-notebook-cell:/d%3A/Python/ftp_test/test.ipynb#X20sZmlsZQ%3D%3D?line=8'>9</a>\u001b[0m ftp\u001b[39m.\u001b[39mencoding \u001b[39m=\u001b[39m \u001b[39m'\u001b[39m\u001b[39mbig5\u001b[39m\u001b[39m'\u001b[39m\n",
      "File \u001b[1;32mc:\\Users\\Eonian\\Anaconda3\\lib\\ftplib.py:438\u001b[0m, in \u001b[0;36mFTP.retrbinary\u001b[1;34m(self, cmd, callback, blocksize, rest)\u001b[0m\n\u001b[0;32m    424\u001b[0m \u001b[39m\"\"\"Retrieve data in binary mode.  A new port is created for you.\u001b[39;00m\n\u001b[0;32m    425\u001b[0m \n\u001b[0;32m    426\u001b[0m \u001b[39mArgs:\u001b[39;00m\n\u001b[1;32m   (...)\u001b[0m\n\u001b[0;32m    435\u001b[0m \u001b[39m  The response code.\u001b[39;00m\n\u001b[0;32m    436\u001b[0m \u001b[39m\"\"\"\u001b[39;00m\n\u001b[0;32m    437\u001b[0m \u001b[39mself\u001b[39m\u001b[39m.\u001b[39mvoidcmd(\u001b[39m'\u001b[39m\u001b[39mTYPE I\u001b[39m\u001b[39m'\u001b[39m)\n\u001b[1;32m--> 438\u001b[0m \u001b[39mwith\u001b[39;00m \u001b[39mself\u001b[39;49m\u001b[39m.\u001b[39;49mtransfercmd(cmd, rest) \u001b[39mas\u001b[39;00m conn:\n\u001b[0;32m    439\u001b[0m     \u001b[39mwhile\u001b[39;00m \u001b[39m1\u001b[39m:\n\u001b[0;32m    440\u001b[0m         data \u001b[39m=\u001b[39m conn\u001b[39m.\u001b[39mrecv(blocksize)\n",
      "File \u001b[1;32mc:\\Users\\Eonian\\Anaconda3\\lib\\ftplib.py:395\u001b[0m, in \u001b[0;36mFTP.transfercmd\u001b[1;34m(self, cmd, rest)\u001b[0m\n\u001b[0;32m    393\u001b[0m \u001b[39mdef\u001b[39;00m \u001b[39mtransfercmd\u001b[39m(\u001b[39mself\u001b[39m, cmd, rest\u001b[39m=\u001b[39m\u001b[39mNone\u001b[39;00m):\n\u001b[0;32m    394\u001b[0m     \u001b[39m\"\"\"Like ntransfercmd() but returns only the socket.\"\"\"\u001b[39;00m\n\u001b[1;32m--> 395\u001b[0m     \u001b[39mreturn\u001b[39;00m \u001b[39mself\u001b[39;49m\u001b[39m.\u001b[39;49mntransfercmd(cmd, rest)[\u001b[39m0\u001b[39m]\n",
      "File \u001b[1;32mc:\\Users\\Eonian\\Anaconda3\\lib\\ftplib.py:359\u001b[0m, in \u001b[0;36mFTP.ntransfercmd\u001b[1;34m(self, cmd, rest)\u001b[0m\n\u001b[0;32m    357\u001b[0m \u001b[39mif\u001b[39;00m rest \u001b[39mis\u001b[39;00m \u001b[39mnot\u001b[39;00m \u001b[39mNone\u001b[39;00m:\n\u001b[0;32m    358\u001b[0m     \u001b[39mself\u001b[39m\u001b[39m.\u001b[39msendcmd(\u001b[39m\"\u001b[39m\u001b[39mREST \u001b[39m\u001b[39m%s\u001b[39;00m\u001b[39m\"\u001b[39m \u001b[39m%\u001b[39m rest)\n\u001b[1;32m--> 359\u001b[0m resp \u001b[39m=\u001b[39m \u001b[39mself\u001b[39;49m\u001b[39m.\u001b[39;49msendcmd(cmd)\n\u001b[0;32m    360\u001b[0m \u001b[39mprint\u001b[39m(\u001b[39m\"\u001b[39m\u001b[39mCMD=\u001b[39m\u001b[39m\"\u001b[39m, cmd)\n\u001b[0;32m    361\u001b[0m \u001b[39m# Some servers apparently send a 200 reply to\u001b[39;00m\n\u001b[0;32m    362\u001b[0m \u001b[39m# a LIST or STOR command, before the 150 reply\u001b[39;00m\n\u001b[0;32m    363\u001b[0m \u001b[39m# (and way before the 226 reply). This seems to\u001b[39;00m\n\u001b[0;32m    364\u001b[0m \u001b[39m# be in violation of the protocol (which only allows\u001b[39;00m\n\u001b[0;32m    365\u001b[0m \u001b[39m# 1xx or error messages for LIST), so we just discard\u001b[39;00m\n\u001b[0;32m    366\u001b[0m \u001b[39m# this response.\u001b[39;00m\n",
      "File \u001b[1;32mc:\\Users\\Eonian\\Anaconda3\\lib\\ftplib.py:281\u001b[0m, in \u001b[0;36mFTP.sendcmd\u001b[1;34m(self, cmd)\u001b[0m\n\u001b[0;32m    279\u001b[0m \u001b[39m'''Send a command and return the response.'''\u001b[39;00m\n\u001b[0;32m    280\u001b[0m \u001b[39mself\u001b[39m\u001b[39m.\u001b[39mputcmd(cmd)\n\u001b[1;32m--> 281\u001b[0m \u001b[39mreturn\u001b[39;00m \u001b[39mself\u001b[39;49m\u001b[39m.\u001b[39;49mgetresp()\n",
      "File \u001b[1;32mc:\\Users\\Eonian\\Anaconda3\\lib\\ftplib.py:254\u001b[0m, in \u001b[0;36mFTP.getresp\u001b[1;34m(self)\u001b[0m\n\u001b[0;32m    252\u001b[0m     \u001b[39mraise\u001b[39;00m error_temp(resp)\n\u001b[0;32m    253\u001b[0m \u001b[39mif\u001b[39;00m c \u001b[39m==\u001b[39m \u001b[39m'\u001b[39m\u001b[39m5\u001b[39m\u001b[39m'\u001b[39m:\n\u001b[1;32m--> 254\u001b[0m     \u001b[39mraise\u001b[39;00m error_perm(resp)\n\u001b[0;32m    255\u001b[0m \u001b[39mraise\u001b[39;00m error_proto(resp)\n",
      "\u001b[1;31merror_perm\u001b[0m: 550 \"Hw1_1_E24076409_林柏宏_v2.rar\": no such file."
     ]
    }
   ],
   "source": [
    "from pathlib import Path\n",
    "def download(file_name : str):\n",
    "    ftp.encoding = 'utf-8'\n",
    "    os.makedirs(\"local\", exist_ok=True)\n",
    "    f = open(file_name, \"wb\")\n",
    "    download_cmd = 'RETR %s' % (file_name)\n",
    "    ftp.retrbinary(download_cmd, f.write)\n",
    "    f.close()\n",
    "    ftp.encoding = 'big5'\n",
    "download(\"Hw1_1_E24076409_林柏宏_v2.rar\")"
   ]
  },
  {
   "cell_type": "code",
   "execution_count": 22,
   "metadata": {},
   "outputs": [],
   "source": [
    "import os\n",
    "\n",
    "output_path = \"./CvDl_2022_G/hw1_1/Hw1_1_F74092099_陳昕泓_V1.rar\"\n",
    "\n",
    "os.makedirs(os.path.dirname(output_path), exist_ok=True)"
   ]
  },
  {
   "cell_type": "code",
   "execution_count": null,
   "metadata": {},
   "outputs": [],
   "source": []
  }
 ],
 "metadata": {
  "kernelspec": {
   "display_name": "Python 3.7.5 ('openfl-test')",
   "language": "python",
   "name": "python3"
  },
  "language_info": {
   "codemirror_mode": {
    "name": "ipython",
    "version": 3
   },
   "file_extension": ".py",
   "mimetype": "text/x-python",
   "name": "python",
   "nbconvert_exporter": "python",
   "pygments_lexer": "ipython3",
   "version": "3.7.5 (default, Oct 31 2019, 15:18:51) [MSC v.1916 64 bit (AMD64)]"
  },
  "orig_nbformat": 4,
  "vscode": {
   "interpreter": {
    "hash": "fe1220276cebca98d3a1a9351a747fbe3b40b1058904a0442146bd950e1cc464"
   }
  }
 },
 "nbformat": 4,
 "nbformat_minor": 2
}
