{
 "cells": [
  {
   "cell_type": "code",
   "execution_count": null,
   "metadata": {},
   "outputs": [],
   "source": [
    "csv_file = \"cvdl.csv\"\n",
    "with open(csv_file,'r', encoding=\"utf-8\") as f:\n",
    "    lines = f.readlines()\n",
    "\n",
    "timed_data = dict()\n",
    "cur_dict = None\n",
    "cur_list = None\n",
    "for line in lines[1:]:\n",
    "    if '\"' in line and ',' not in line:\n",
    "        timestamp = line.strip().replace('\"','')\n",
    "        continue\n",
    "    elif ',' not in line:\n",
    "        timestamp += line.strip()\n",
    "        continue\n",
    "\n",
    "    datas = line.split(',')\n",
    "    if '\"' in line:\n",
    "        timestamp += datas[0].replace('\"','')\n",
    "        cur_dict = dict()\n",
    "        timed_data[timestamp] = cur_dict\n",
    "\n",
    "    group = datas[1]\n",
    "    if group != \"\":\n",
    "        group = group.replace(\"組\",'')[0]\n",
    "        cur_list = list()\n",
    "        cur_dict[group] = cur_list\n",
    "\n",
    "    s_id = datas[3]\n",
    "    cur_list.append(s_id)"
   ]
  },
  {
   "cell_type": "code",
   "execution_count": null,
   "metadata": {},
   "outputs": [],
   "source": [
    "with open('./download/CvDl_2022_G/hw1.csv', 'r',encoding='utf-8') as f:\n",
    "    lines = f.readlines()\n",
    "\n",
    "hw_mapping = dict()\n",
    "s_names = dict()\n",
    "header = lines[0].split(',')\n",
    "hw_header = [header[i].replace('名稱','') for i in range(3, len(header),3)]\n",
    "for line in lines[1:]:\n",
    "    datas = line.split(',')\n",
    "    s_id = datas[0]\n",
    "    name = datas[1]\n",
    "    s_names[s_id] = name\n",
    "    hw_files = [datas[i] for i in range(3, len(datas),3)]\n",
    "    hw_mapping[s_id] = hw_files"
   ]
  },
  {
   "cell_type": "code",
   "execution_count": null,
   "metadata": {},
   "outputs": [],
   "source": [
    "timed_data"
   ]
  },
  {
   "cell_type": "code",
   "execution_count": null,
   "metadata": {},
   "outputs": [],
   "source": [
    "import os\n",
    "import shutil\n",
    "file_root = \"E:\\\\\"\n",
    "\n",
    "old_root = os.path.join(file_root, 'cvdl_hw')\n",
    "new_root = os.path.join(file_root, 'group_hw_files')\n",
    "os.makedirs(new_root, exist_ok=True)\n",
    "for timestamp, grouped_data in timed_data.items():\n",
    "    timestamp = timestamp.replace(\":\",'').replace('~','-')\n",
    "    for group_idx, s_ids in grouped_data.items():\n",
    "        for s_id in s_ids:\n",
    "            new_path = os.path.join(new_root, group_idx, timestamp, s_id)\n",
    "            os.makedirs(new_path, exist_ok=True)\n",
    "\n",
    "            for hw_head, file_name in zip(hw_header, hw_mapping[s_id]):\n",
    "                if file_name == \"\":\n",
    "                    continue\n",
    "                old_path = os.path.join(old_root, hw_head, file_name)\n",
    "                if not os.path.exists(old_path):\n",
    "                    continue\n",
    "                if os.path.exists(os.path.join(new_path, file_name)):\n",
    "                    continue\n",
    "                shutil.copy(old_path, os.path.join(new_path, file_name))"
   ]
  },
  {
   "cell_type": "code",
   "execution_count": null,
   "metadata": {},
   "outputs": [],
   "source": []
  }
 ],
 "metadata": {
  "kernelspec": {
   "display_name": "Python 3.7.5 ('openfl-test')",
   "language": "python",
   "name": "python3"
  },
  "language_info": {
   "codemirror_mode": {
    "name": "ipython",
    "version": 3
   },
   "file_extension": ".py",
   "mimetype": "text/x-python",
   "name": "python",
   "nbconvert_exporter": "python",
   "pygments_lexer": "ipython3",
   "version": "3.7.5 (default, Oct 31 2019, 15:18:51) [MSC v.1916 64 bit (AMD64)]"
  },
  "orig_nbformat": 4,
  "vscode": {
   "interpreter": {
    "hash": "fe1220276cebca98d3a1a9351a747fbe3b40b1058904a0442146bd950e1cc464"
   }
  }
 },
 "nbformat": 4,
 "nbformat_minor": 2
}
